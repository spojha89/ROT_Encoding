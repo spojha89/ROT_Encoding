{
  "nbformat": 4,
  "nbformat_minor": 0,
  "metadata": {
    "colab": {
      "provenance": []
    },
    "kernelspec": {
      "name": "python3",
      "display_name": "Python 3"
    },
    "language_info": {
      "name": "python"
    }
  },
  "cells": [
    {
      "cell_type": "code",
      "execution_count": 1,
      "metadata": {
        "id": "TCu2Ya-okp87"
      },
      "outputs": [],
      "source": [
        "def isPrime(n):\n",
        "    half=n//2\n",
        "    if n < 2:\n",
        "        return False\n",
        "    for i in range(2, half+1):\n",
        "        if n % i == 0:\n",
        "            return False\n",
        "    return True"
      ]
    },
    {
      "cell_type": "markdown",
      "source": [
        "Approach-\n",
        "\n",
        "Any number can be considered as prime number when mod of the number with any number starting from 2 until half of the number + 1 is 0. All the case statements are written to depict this concept.\n",
        "\n",
        "\n"
      ],
      "metadata": {
        "id": "x9cSIxuU-5c0"
      }
    },
    {
      "cell_type": "code",
      "source": [
        "print(isPrime(6))"
      ],
      "metadata": {
        "colab": {
          "base_uri": "https://localhost:8080/",
          "height": 0
        },
        "id": "V7syGsQJp2mi",
        "outputId": "ed7d15a9-42d4-4934-a80c-a435812ceef9"
      },
      "execution_count": 2,
      "outputs": [
        {
          "output_type": "stream",
          "name": "stdout",
          "text": [
            "False\n"
          ]
        }
      ]
    },
    {
      "cell_type": "code",
      "source": [
        "##Using loop until sqrt of the number\n",
        "\n",
        "import math\n",
        "\n",
        "def isPrime2(n):\n",
        "    sqrt=round(math.sqrt(n))\n",
        "\n",
        "    # print(sqrt)\n",
        "\n",
        "    if n < 2:\n",
        "        return False\n",
        "    for i in range(2, sqrt+1):\n",
        "        if n % i == 0:\n",
        "            return False\n",
        "    return True"
      ],
      "metadata": {
        "id": "6kVbDL3MrGON"
      },
      "execution_count": 3,
      "outputs": []
    },
    {
      "cell_type": "markdown",
      "source": [
        "Approach-\n",
        "\n",
        "Any number can be considered as prime number when mod of the number with any number starting from 2 until square root of the number + 1 is 0. All the case statements are written to depict this concept."
      ],
      "metadata": {
        "id": "134Np01Z-h5H"
      }
    },
    {
      "cell_type": "code",
      "source": [
        "print(isPrime2(50))"
      ],
      "metadata": {
        "colab": {
          "base_uri": "https://localhost:8080/",
          "height": 0
        },
        "id": "0wO4o-Q7rfCo",
        "outputId": "461a7353-75d4-4a58-8f99-71a29eafc443"
      },
      "execution_count": 4,
      "outputs": [
        {
          "output_type": "stream",
          "name": "stdout",
          "text": [
            "False\n"
          ]
        }
      ]
    },
    {
      "cell_type": "code",
      "source": [
        "## Find 9991th to 10000th prime numbers and then write to prime.txt file\n",
        "\n",
        "from google.colab import drive\n",
        "drive.mount('/content/drive')\n",
        "\n",
        "f = open(\"/content/drive/MyDrive/Colab Notebooks/prime.txt\", \"w\")\n",
        "\n",
        "counter=0\n",
        "for i in range(1, 1000000):\n",
        "    if isPrime2(i):\n",
        "        counter+=1\n",
        "\n",
        "        if counter >= 9991 :\n",
        "          if counter <= 10000 :\n",
        "            print(str(i) + ' is the ' + str(counter) + 'th prime number')\n",
        "            f.write(str(i) + ' is the ' + str(counter) + 'th prime number\\n')\n",
        "            continue ## Until the prime number counter is between 9991th and 10000th, then the loop will continue.\n",
        "          else:\n",
        "            break ## if the prime number counter goes above 10000th, then the loop will break.\n",
        "f.close()"
      ],
      "metadata": {
        "colab": {
          "base_uri": "https://localhost:8080/",
          "height": 0
        },
        "id": "4YIjT6UUnxrh",
        "outputId": "97b4ed46-6def-4869-f05b-d907ad8d09f8"
      },
      "execution_count": 5,
      "outputs": [
        {
          "output_type": "stream",
          "name": "stdout",
          "text": [
            "Mounted at /content/drive\n",
            "104677 is the 9991th prime number\n",
            "104681 is the 9992th prime number\n",
            "104683 is the 9993th prime number\n",
            "104693 is the 9994th prime number\n",
            "104701 is the 9995th prime number\n",
            "104707 is the 9996th prime number\n",
            "104711 is the 9997th prime number\n",
            "104717 is the 9998th prime number\n",
            "104723 is the 9999th prime number\n",
            "104729 is the 10000th prime number\n"
          ]
        }
      ]
    },
    {
      "cell_type": "markdown",
      "source": [
        "Approach-\n",
        "\n",
        "a. Created a loop which runs between 1 to 1000000.\n",
        "\n",
        "b. Used a counter initialized to 0. The counter will increase over inside the loop.\n",
        "\n",
        "c. Called isPrime2 method and passed over numbers 1 to 1000000 through it. If the number is prime, then I am checking if the prime number is the 9991th till 10000th prime number using couple of if cases."
      ],
      "metadata": {
        "id": "fOKAK-P3rnme"
      }
    }
  ]
}